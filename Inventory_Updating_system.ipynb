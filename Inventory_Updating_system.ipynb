{
  "cells": [
    {
      "cell_type": "markdown",
      "metadata": {
        "id": "view-in-github",
        "colab_type": "text"
      },
      "source": [
        "<a href=\"https://colab.research.google.com/github/omarjamu/Inventory-Sample-Code/blob/main/Inventory_Updating_system.ipynb\" target=\"_parent\"><img src=\"https://colab.research.google.com/assets/colab-badge.svg\" alt=\"Open In Colab\"/></a>"
      ]
    },
    {
      "source": [
        "# Inventory Management System"
      ],
      "metadata": {
        "id": "d0eb4f16-5a99-460d-a5ba-706b7ef0bbe7",
        "executionTime": 50,
        "lastSuccessfullyExecutedCode": "# Start coding here... "
      },
      "id": "d0eb4f16-5a99-460d-a5ba-706b7ef0bbe7",
      "cell_type": "code",
      "execution_count": null,
      "outputs": []
    },
    {
      "source": [
        "#Importing Json library\n",
        "import json\n",
        "\n",
        "class Item:\n",
        "    def __init__(self, name, quantity, unit_price):\n",
        "        self.name = name\n",
        "        self.quantity = quantity\n",
        "        self.unit_price = unit_price\n",
        "\n",
        "    def __str__(self):\n",
        "        return f\"{self.name} - Quantity: {self.quantity} - Unit Price: ${self.unit_price}\"\n",
        "\n",
        "    def total_price(self):\n",
        "        return self.quantity * self.unit_price\n",
        "\n",
        "class Inventory:\n",
        "    def __init__(self):\n",
        "        self.items = {}\n",
        "\n",
        "    def add_item(self, item):\n",
        "        self.items[item.name] = item\n",
        "\n",
        "    def remove_item(self, item_name):\n",
        "        if item_name in self.items:\n",
        "            del self.items[item_name]\n",
        "            print(f\"Item {item_name} removed from inventory.\")\n",
        "        else:\n",
        "            print(f\"Item {item_name} not found in inventory.\")\n",
        "\n",
        "    def update_item(self, item_name, quantity, unit_price=None):\n",
        "        if item_name in self.items:\n",
        "            if unit_price:\n",
        "                self.items[item_name].unit_price = unit_price\n",
        "            self.items[item_name].quantity += quantity\n",
        "            print(f\"Quantity of {item_name} updated to {self.items[item_name].quantity}.\")\n",
        "        else:\n",
        "            print(f\"Item {item_name} not found in inventory.\")\n",
        "\n",
        "    def search_item(self, item_name):\n",
        "        if item_name in self.items:\n",
        "            return self.items[item_name]\n",
        "        else:\n",
        "            return None\n",
        "\n",
        "    def list_items(self):\n",
        "        if not self.items:\n",
        "            print(\"Inventory is empty.\")\n",
        "        else:\n",
        "            for item in self.items.values():\n",
        "                print(item)\n",
        "\n",
        "    def save(self, file_name):\n",
        "        with open(file_name, 'w') as f:\n",
        "            json.dump(self.items, f)\n",
        "\n",
        "    def load(self, file_name):\n",
        "        with open(file_name, 'r') as f:\n",
        "            self.items = json.load(f)\n",
        "\n",
        "# Creating an instance of the Inventory class\n",
        "inv = Inventory()\n",
        "\n",
        "# Adding some items to the inventory\n",
        "item1 = Item(\"Apple\", 1000, 1)\n",
        "item2 = Item(\"Banana\", 500, 3)\n",
        "item3 = Item(\"Orange\", 1000, 2)\n",
        "inv.add_item(item1)\n",
        "inv.add_item(item2)\n",
        "inv.add_item(item3)\n",
        "\n",
        "# Printing the current inventory\n",
        "inv.list_items()\n",
        "# Output:\n",
        "# Apple - Quantity: 1000 - Unit Price: $1\n",
        "# Banana - Quantity: 500 - Unit Price: $3\n",
        "# Orange - Quantity: 1000 - Unit Price: $2\n",
        "\n",
        "# Updating the quantity of apples\n",
        "inv.update_item(\"Apple\", -100)\n",
        "inv.update_item(\"Banana\", -100)\n",
        "inv.update_item(\"Orange\", -100)\n",
        "# Output: Quantity of Apple,Apple, updated to:\n",
        "\n",
        "# Trying to update the quantity of an item that's not in the inventory\n",
        "inv.update_item(\"Pear\", 10)\n",
        "# Output: Item Pear not found in inventory.\n",
        "\n",
        "# Inventory Balance Shown below\n"
      ],
      "metadata": {
        "executionTime": 59,
        "lastSuccessfullyExecutedCode": "import json\n\nclass Item:\n    def __init__(self, name, quantity, unit_price):\n        self.name = name\n        self.quantity = quantity\n        self.unit_price = unit_price\n\n    def __str__(self):\n        return f\"{self.name} - Quantity: {self.quantity} - Unit Price: ${self.unit_price}\"\n\n    def total_price(self):\n        return self.quantity * self.unit_price\n\nclass Inventory:\n    def __init__(self):\n        self.items = {}\n\n    def add_item(self, item):\n        self.items[item.name] = item\n\n    def remove_item(self, item_name):\n        if item_name in self.items:\n            del self.items[item_name]\n            print(f\"Item {item_name} removed from inventory.\")\n        else:\n            print(f\"Item {item_name} not found in inventory.\")\n\n    def update_item(self, item_name, quantity, unit_price=None):\n        if item_name in self.items:\n            if unit_price:\n                self.items[item_name].unit_price = unit_price\n            self.items[item_name].quantity += quantity\n            print(f\"Quantity of {item_name} updated to {self.items[item_name].quantity}.\")\n        else:\n            print(f\"Item {item_name} not found in inventory.\")\n\n    def search_item(self, item_name):\n        if item_name in self.items:\n            return self.items[item_name]\n        else:\n            return None\n\n    def list_items(self):\n        if not self.items:\n            print(\"Inventory is empty.\")\n        else:\n            for item in self.items.values():\n                print(item)\n\n    def save(self, file_name):\n        with open(file_name, 'w') as f:\n            json.dump(self.items, f)\n\n    def load(self, file_name):\n        with open(file_name, 'r') as f:\n            self.items = json.load(f)\n\n# Create an instance of the Inventory class\ninv = Inventory()\n\n# Add some items to the inventory\nitem1 = Item(\"Apple\", 50, 0.5)\nitem2 = Item(\"Banana\", 100, 0.25)\nitem3 = Item(\"Orange\", 75, 0.75)\ninv.add_item(item1)\ninv.add_item(item2)\ninv.add_item(item3)\n\n# Print the current inventory\ninv.list_items()\n# Output:\n# Apple - Quantity: 50 - Unit Price: $0.5\n# Banana - Quantity: 100 - Unit Price: $0.25\n# Orange - Quantity: 75 - Unit Price: $0.75\n\n# Update the quantity of apples\ninv.update_item(\"Apple\", -10)\n# Output: Quantity of Apple updated to 40.\n\n# Try to update the quantity of an item that's not in the inventory\ninv.update_item(\"Pear\", 10)\n# Output: Item Pear not found in inventory.\n\n# Search for\n",
        "colab": {
          "base_uri": "https://localhost:8080/"
        },
        "id": "5cc91a99-842d-4970-a96d-3b2ad4def1af",
        "outputId": "abb87217-6216-41ca-fe3f-4d252548fa92"
      },
      "cell_type": "code",
      "id": "5cc91a99-842d-4970-a96d-3b2ad4def1af",
      "execution_count": null,
      "outputs": [
        {
          "output_type": "stream",
          "name": "stdout",
          "text": [
            "Apple - Quantity: 1000 - Unit Price: $1\n",
            "Banana - Quantity: 500 - Unit Price: $3\n",
            "Orange - Quantity: 1000 - Unit Price: $2\n",
            "Quantity of Apple updated to 900.\n",
            "Quantity of Banana updated to 400.\n",
            "Quantity of Orange updated to 900.\n",
            "Item Pear not found in inventory.\n"
          ]
        }
      ]
    }
  ],
  "metadata": {
    "colab": {
      "provenance": [],
      "include_colab_link": true
    },
    "kernelspec": {
      "display_name": "Python 3 (ipykernel)",
      "language": "python",
      "name": "python3"
    },
    "language_info": {
      "codemirror_mode": {
        "name": "ipython",
        "version": 3
      },
      "file_extension": ".py",
      "mimetype": "text/x-python",
      "name": "python",
      "nbconvert_exporter": "python",
      "pygments_lexer": "ipython3",
      "version": "3.8.10"
    }
  },
  "nbformat": 4,
  "nbformat_minor": 5
}